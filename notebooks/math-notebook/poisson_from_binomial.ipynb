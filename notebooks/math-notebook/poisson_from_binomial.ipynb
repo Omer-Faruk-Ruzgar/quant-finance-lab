{
 "cells": [
  {
   "cell_type": "code",
   "execution_count": null,
   "id": "2b69a11b",
   "metadata": {
    "vscode": {
     "languageId": "plaintext"
    }
   },
   "outputs": [],
   "source": [
    "# TODO: Demostrate Poisson Distribution with real life data sets\n",
    "# - Create Visualizations\n",
    "# - Apply to finance examples (rare events, defaults, etc.)"
   ]
  }
 ],
 "metadata": {
  "language_info": {
   "name": "python"
  }
 },
 "nbformat": 4,
 "nbformat_minor": 5
}
